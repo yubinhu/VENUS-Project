{
 "cells": [
  {
   "cell_type": "code",
   "execution_count": 79,
   "id": "d5f3bac0-2d18-4b9a-a40e-ec6d13b2d990",
   "metadata": {},
   "outputs": [],
   "source": [
    "import pandas as pd\n",
    "import seaborn as sns\n",
    "import numpy as np\n",
    "import matplotlib.pyplot as plt\n",
    "import math\n",
    "import pickle\n",
    "\n",
    "from sklearn.gaussian_process import GaussianProcessRegressor\n",
    "from sklearn.gaussian_process.kernels import DotProduct, WhiteKernel\n",
    "from sklearn.gaussian_process.kernels import RBF\n",
    "from sklearn.gaussian_process.kernels import Matern\n",
    "from sklearn.model_selection import train_test_split\n",
    "from sklearn.model_selection import cross_val_score\n",
    "\n",
    "from tqdm import tqdm\n",
    "\n",
    "from bayes_opt import BayesianOptimization, UtilityFunction\n",
    "import warnings\n",
    "warnings.filterwarnings(\"ignore\")\n",
    "\n",
    "# plotting\n",
    "import matplotlib.pyplot as plt\n",
    "plt.rcParams['figure.dpi']=100\n",
    "RANDSTATE = 42\n",
    "\n",
    "sns.set(rc = {'figure.figsize':(13,8)})"
   ]
  },
  {
   "cell_type": "markdown",
   "id": "f16898b4-a328-445d-af50-838bae3c375f",
   "metadata": {
    "jp-MarkdownHeadingCollapsed": true,
    "tags": []
   },
   "source": [
    "# Preprocessing"
   ]
  },
  {
   "cell_type": "code",
   "execution_count": 16,
   "id": "129f4a16-0c18-4efa-9736-17fe06b07704",
   "metadata": {},
   "outputs": [
    {
     "data": {
      "text/html": [
       "<div>\n",
       "<style scoped>\n",
       "    .dataframe tbody tr th:only-of-type {\n",
       "        vertical-align: middle;\n",
       "    }\n",
       "\n",
       "    .dataframe tbody tr th {\n",
       "        vertical-align: top;\n",
       "    }\n",
       "\n",
       "    .dataframe thead th {\n",
       "        text-align: right;\n",
       "    }\n",
       "</style>\n",
       "<table border=\"1\" class=\"dataframe\">\n",
       "  <thead>\n",
       "    <tr style=\"text-align: right;\">\n",
       "      <th></th>\n",
       "      <th>trial index</th>\n",
       "      <th>file index</th>\n",
       "      <th>block index</th>\n",
       "      <th>beam_avg</th>\n",
       "      <th>beam_std</th>\n",
       "      <th>inj_avg</th>\n",
       "      <th>inj_std</th>\n",
       "      <th>ext_avg</th>\n",
       "      <th>ext_std</th>\n",
       "      <th>mid_avg</th>\n",
       "      <th>mid_std</th>\n",
       "      <th>bias_avg</th>\n",
       "      <th>bias_std</th>\n",
       "      <th>inj_p_avg</th>\n",
       "      <th>inj_p_std</th>\n",
       "      <th>ext_p_avg</th>\n",
       "      <th>ext_p_std</th>\n",
       "    </tr>\n",
       "  </thead>\n",
       "  <tbody>\n",
       "    <tr>\n",
       "      <th>count</th>\n",
       "      <td>1565.000000</td>\n",
       "      <td>1565.000000</td>\n",
       "      <td>1565.000000</td>\n",
       "      <td>1565.000000</td>\n",
       "      <td>1565.000000</td>\n",
       "      <td>1565.000000</td>\n",
       "      <td>1565.000000</td>\n",
       "      <td>1565.000000</td>\n",
       "      <td>1565.000000</td>\n",
       "      <td>1565.000000</td>\n",
       "      <td>1565.000000</td>\n",
       "      <td>1565.000000</td>\n",
       "      <td>1565.000000</td>\n",
       "      <td>1.565000e+03</td>\n",
       "      <td>1.565000e+03</td>\n",
       "      <td>1.565000e+03</td>\n",
       "      <td>1.565000e+03</td>\n",
       "    </tr>\n",
       "    <tr>\n",
       "      <th>mean</th>\n",
       "      <td>1.224920</td>\n",
       "      <td>12.230032</td>\n",
       "      <td>15.649840</td>\n",
       "      <td>156.411108</td>\n",
       "      <td>7.318653</td>\n",
       "      <td>124.539535</td>\n",
       "      <td>0.006922</td>\n",
       "      <td>102.803959</td>\n",
       "      <td>0.004496</td>\n",
       "      <td>101.341325</td>\n",
       "      <td>0.003195</td>\n",
       "      <td>4.463232</td>\n",
       "      <td>0.187529</td>\n",
       "      <td>1.093276e-07</td>\n",
       "      <td>4.623799e-10</td>\n",
       "      <td>8.052076e-09</td>\n",
       "      <td>9.514257e-11</td>\n",
       "    </tr>\n",
       "    <tr>\n",
       "      <th>std</th>\n",
       "      <td>0.818905</td>\n",
       "      <td>6.301219</td>\n",
       "      <td>9.493843</td>\n",
       "      <td>54.616864</td>\n",
       "      <td>6.864685</td>\n",
       "      <td>3.341419</td>\n",
       "      <td>0.005264</td>\n",
       "      <td>3.757696</td>\n",
       "      <td>0.002659</td>\n",
       "      <td>3.629322</td>\n",
       "      <td>0.001782</td>\n",
       "      <td>0.833265</td>\n",
       "      <td>0.182806</td>\n",
       "      <td>6.135745e-09</td>\n",
       "      <td>3.051013e-09</td>\n",
       "      <td>3.687252e-09</td>\n",
       "      <td>7.051879e-10</td>\n",
       "    </tr>\n",
       "    <tr>\n",
       "      <th>min</th>\n",
       "      <td>0.000000</td>\n",
       "      <td>0.000000</td>\n",
       "      <td>0.000000</td>\n",
       "      <td>23.862232</td>\n",
       "      <td>0.378532</td>\n",
       "      <td>117.005536</td>\n",
       "      <td>0.000000</td>\n",
       "      <td>96.990714</td>\n",
       "      <td>0.000000</td>\n",
       "      <td>94.999643</td>\n",
       "      <td>0.000000</td>\n",
       "      <td>2.275170</td>\n",
       "      <td>0.012404</td>\n",
       "      <td>9.785179e-08</td>\n",
       "      <td>0.000000e+00</td>\n",
       "      <td>4.902241e-09</td>\n",
       "      <td>1.477867e-11</td>\n",
       "    </tr>\n",
       "    <tr>\n",
       "      <th>25%</th>\n",
       "      <td>1.000000</td>\n",
       "      <td>7.000000</td>\n",
       "      <td>7.000000</td>\n",
       "      <td>120.019741</td>\n",
       "      <td>2.130479</td>\n",
       "      <td>122.011786</td>\n",
       "      <td>0.004468</td>\n",
       "      <td>100.060000</td>\n",
       "      <td>0.002966</td>\n",
       "      <td>98.598750</td>\n",
       "      <td>0.001873</td>\n",
       "      <td>3.922495</td>\n",
       "      <td>0.046165</td>\n",
       "      <td>1.041250e-07</td>\n",
       "      <td>2.328536e-10</td>\n",
       "      <td>6.153966e-09</td>\n",
       "      <td>4.369642e-11</td>\n",
       "    </tr>\n",
       "    <tr>\n",
       "      <th>50%</th>\n",
       "      <td>1.000000</td>\n",
       "      <td>12.000000</td>\n",
       "      <td>16.000000</td>\n",
       "      <td>147.963161</td>\n",
       "      <td>4.308883</td>\n",
       "      <td>124.573448</td>\n",
       "      <td>0.005557</td>\n",
       "      <td>102.441034</td>\n",
       "      <td>0.004443</td>\n",
       "      <td>101.280000</td>\n",
       "      <td>0.003478</td>\n",
       "      <td>4.385876</td>\n",
       "      <td>0.114744</td>\n",
       "      <td>1.083966e-07</td>\n",
       "      <td>4.086186e-10</td>\n",
       "      <td>7.097500e-09</td>\n",
       "      <td>5.249752e-11</td>\n",
       "    </tr>\n",
       "    <tr>\n",
       "      <th>75%</th>\n",
       "      <td>2.000000</td>\n",
       "      <td>17.000000</td>\n",
       "      <td>24.000000</td>\n",
       "      <td>198.362862</td>\n",
       "      <td>11.320690</td>\n",
       "      <td>127.013929</td>\n",
       "      <td>0.007854</td>\n",
       "      <td>105.367679</td>\n",
       "      <td>0.005345</td>\n",
       "      <td>104.083750</td>\n",
       "      <td>0.004558</td>\n",
       "      <td>4.966493</td>\n",
       "      <td>0.273393</td>\n",
       "      <td>1.129643e-07</td>\n",
       "      <td>4.993502e-10</td>\n",
       "      <td>8.537500e-09</td>\n",
       "      <td>6.542866e-11</td>\n",
       "    </tr>\n",
       "    <tr>\n",
       "      <th>max</th>\n",
       "      <td>2.000000</td>\n",
       "      <td>25.000000</td>\n",
       "      <td>34.000000</td>\n",
       "      <td>280.606517</td>\n",
       "      <td>34.172754</td>\n",
       "      <td>130.036786</td>\n",
       "      <td>0.056671</td>\n",
       "      <td>110.003214</td>\n",
       "      <td>0.037604</td>\n",
       "      <td>110.000179</td>\n",
       "      <td>0.010710</td>\n",
       "      <td>7.691891</td>\n",
       "      <td>1.030986</td>\n",
       "      <td>1.314655e-07</td>\n",
       "      <td>1.202603e-07</td>\n",
       "      <td>9.509107e-08</td>\n",
       "      <td>2.391238e-08</td>\n",
       "    </tr>\n",
       "  </tbody>\n",
       "</table>\n",
       "</div>"
      ],
      "text/plain": [
       "       trial index   file index  block index     beam_avg     beam_std  \\\n",
       "count  1565.000000  1565.000000  1565.000000  1565.000000  1565.000000   \n",
       "mean      1.224920    12.230032    15.649840   156.411108     7.318653   \n",
       "std       0.818905     6.301219     9.493843    54.616864     6.864685   \n",
       "min       0.000000     0.000000     0.000000    23.862232     0.378532   \n",
       "25%       1.000000     7.000000     7.000000   120.019741     2.130479   \n",
       "50%       1.000000    12.000000    16.000000   147.963161     4.308883   \n",
       "75%       2.000000    17.000000    24.000000   198.362862    11.320690   \n",
       "max       2.000000    25.000000    34.000000   280.606517    34.172754   \n",
       "\n",
       "           inj_avg      inj_std      ext_avg      ext_std      mid_avg  \\\n",
       "count  1565.000000  1565.000000  1565.000000  1565.000000  1565.000000   \n",
       "mean    124.539535     0.006922   102.803959     0.004496   101.341325   \n",
       "std       3.341419     0.005264     3.757696     0.002659     3.629322   \n",
       "min     117.005536     0.000000    96.990714     0.000000    94.999643   \n",
       "25%     122.011786     0.004468   100.060000     0.002966    98.598750   \n",
       "50%     124.573448     0.005557   102.441034     0.004443   101.280000   \n",
       "75%     127.013929     0.007854   105.367679     0.005345   104.083750   \n",
       "max     130.036786     0.056671   110.003214     0.037604   110.000179   \n",
       "\n",
       "           mid_std     bias_avg     bias_std     inj_p_avg     inj_p_std  \\\n",
       "count  1565.000000  1565.000000  1565.000000  1.565000e+03  1.565000e+03   \n",
       "mean      0.003195     4.463232     0.187529  1.093276e-07  4.623799e-10   \n",
       "std       0.001782     0.833265     0.182806  6.135745e-09  3.051013e-09   \n",
       "min       0.000000     2.275170     0.012404  9.785179e-08  0.000000e+00   \n",
       "25%       0.001873     3.922495     0.046165  1.041250e-07  2.328536e-10   \n",
       "50%       0.003478     4.385876     0.114744  1.083966e-07  4.086186e-10   \n",
       "75%       0.004558     4.966493     0.273393  1.129643e-07  4.993502e-10   \n",
       "max       0.010710     7.691891     1.030986  1.314655e-07  1.202603e-07   \n",
       "\n",
       "          ext_p_avg     ext_p_std  \n",
       "count  1.565000e+03  1.565000e+03  \n",
       "mean   8.052076e-09  9.514257e-11  \n",
       "std    3.687252e-09  7.051879e-10  \n",
       "min    4.902241e-09  1.477867e-11  \n",
       "25%    6.153966e-09  4.369642e-11  \n",
       "50%    7.097500e-09  5.249752e-11  \n",
       "75%    8.537500e-09  6.542866e-11  \n",
       "max    9.509107e-08  2.391238e-08  "
      ]
     },
     "execution_count": 16,
     "metadata": {},
     "output_type": "execute_result"
    }
   ],
   "source": [
    "df = pd.read_csv(\"VENUS_current_data.csv\")\n",
    "df.describe()"
   ]
  },
  {
   "cell_type": "code",
   "execution_count": 17,
   "id": "68becac9-9b00-4d66-8825-318f786611ae",
   "metadata": {},
   "outputs": [
    {
     "data": {
      "text/plain": [
       "<seaborn.axisgrid.FacetGrid at 0x7f96b85b21c0>"
      ]
     },
     "execution_count": 17,
     "metadata": {},
     "output_type": "execute_result"
    },
    {
     "data": {
      "image/png": "[encoded data removed]",
      "text/plain": [
       "<Figure size 500x500 with 1 Axes>"
      ]
     },
     "metadata": {},
     "output_type": "display_data"
    }
   ],
   "source": [
    "df[\"rel_std\"] = df[\"beam_std\"] / df[\"beam_avg\"]\n",
    "sns.catplot(x=\"rel_std\", kind=\"box\", data=df)"
   ]
  },
  {
   "cell_type": "code",
   "execution_count": 31,
   "id": "ace9bca2-d1bf-47b9-a047-29924f8d0baa",
   "metadata": {},
   "outputs": [],
   "source": [
    "def extract_data(df, target=\"Data/\"):\n",
    "    # extracts the beam current and its relative variation from a dataframe to files\n",
    "    exp_num_list = list(df[\"trial index\"].unique()+1)\n",
    "    for exp_num in exp_num_list:\n",
    "        df[\"rel_std\"] = df[\"beam_std\"] / df[\"beam_avg\"]\n",
    "        data = df.loc[df['trial index'] == exp_num-1][[\"beam_avg\", \"beam_std\", \"inj_avg\", \"ext_avg\", \"mid_avg\", \"rel_std\"]]\n",
    "\n",
    "        beam_avg_arr = np.array(data[\"beam_avg\"].to_list())\n",
    "        beam_std_arr = np.array(data[\"rel_std\"].to_list())\n",
    "\n",
    "        xpts = data[\"mid_avg\"].to_list()\n",
    "        ypts = data[\"ext_avg\"].to_list()\n",
    "        zpts = data[\"inj_avg\"].to_list()\n",
    "\n",
    "        xpts, ypts, zpts, sizepts, magpts = xpts, ypts, zpts, [], list(beam_avg_arr)\n",
    "        # Data saving sniphet from \"Venus Data Exploration/Analyze Runs\"\n",
    "        data_list = [xpts, ypts, zpts, sizepts, magpts]\n",
    "        target_file = \"data%d.pkl\"%exp_num\n",
    "        open_file = open(target+target_file, \"wb\")\n",
    "        pickle.dump(data_list, open_file)\n",
    "        open_file.close()\n",
    "\n",
    "        xpts, ypts, zpts, sizepts, magpts = xpts, ypts, zpts, [], list(beam_std_arr)\n",
    "        # Data saving sniphet from \"Venus Data Exploration/Analyze Runs\"\n",
    "        data_list = [xpts, ypts, zpts, sizepts, magpts]\n",
    "        target_file = \"std_data%d.pkl\"%exp_num\n",
    "        open_file = open(target+target_file, \"wb\")\n",
    "        pickle.dump(data_list, open_file)\n",
    "        open_file.close()\n",
    "\n",
    "extract_data(df)"
   ]
  },
  {
   "cell_type": "markdown",
   "id": "e6815c6f-621b-4a84-9a03-2f87bcff5599",
   "metadata": {
    "jp-MarkdownHeadingCollapsed": true,
    "tags": []
   },
   "source": [
    "# Gaussian Process Regression"
   ]
  },
  {
   "cell_type": "markdown",
   "id": "7c657d8c-d834-4912-b54b-f9d3c02005bb",
   "metadata": {
    "jp-MarkdownHeadingCollapsed": true,
    "tags": []
   },
   "source": [
    "## Definitons"
   ]
  },
  {
   "cell_type": "code",
   "execution_count": 61,
   "id": "db5e39f8-4a1f-4b3c-9dbf-6b364883cfd5",
   "metadata": {},
   "outputs": [],
   "source": [
    "class MyDataset():\n",
    "    def __init__(self, train_X, valid_X, train_y, valid_y, X_test = None):\n",
    "        self.X_train = train_X\n",
    "        self.y_train = train_y\n",
    "        self.X_valid = valid_X\n",
    "        self.y_valid = valid_y\n",
    "        self.X_test = X_test\n",
    "        \n",
    "        self.normalized = False\n",
    "        \n",
    "    def __str__(self):\n",
    "        return str((self.train_X.shape, self.train_y.shape, self.valid_X.shape, self.valid_y.shape))\n",
    "\n",
    "    def normalize(self):\n",
    "        if self.normalized:\n",
    "            print(\"already normalized!\")\n",
    "            return\n",
    "        \n",
    "        std_list = np.std(self.X_train, axis=0)\n",
    "        std_list = np.where(std_list == 0, 1, std_list) # prevent zero division error\n",
    "        avg_list = np.mean(self.X_train, axis=0)\n",
    "        self.X_train = (self.X_train - avg_list)/std_list\n",
    "        if not self.X_valid is None: self.X_valid = (self.X_valid - avg_list)/std_list\n",
    "        if not self.X_test is None: self.X_test = (self.X_test - avg_list)/std_list\n",
    "            \n",
    "        self.std_list = std_list\n",
    "        self.avg_list = avg_list\n",
    "        print(\"dataset normalized!\")\n",
    "        self.normalized = True\n",
    "        return\n",
    "    \n",
    "    def normalize_vec(self, X):\n",
    "        if not self.normalized:\n",
    "            print(\"Dataset never normalized\")\n",
    "        return (X - self.avg_list)/self.std_list\n",
    "    \n",
    "    def add_fict(self):\n",
    "        add_ones = lambda X: np.hstack((X,np.ones((X.shape[0],1))))\n",
    "        self.X_train = add_ones(self.X_train)\n",
    "        self.X_valid = add_ones(self.X_valid)\n",
    "        self.X_test = add_ones(self.X_test)\n",
    "        print(\"ficticious dimension added!\")\n",
    "        \n",
    "    def print_dim(self):\n",
    "        print(\"X_train has shape:\",self.X_train.shape)\n",
    "        print(\"y_train has shape:\",self.y_train.shape)\n",
    "        print(\"X_valid has shape:\",self.X_valid.shape)\n",
    "        print(\"y_valid has shape:\",self.y_valid.shape)\n",
    "        if self.X_test: print(\"X_test has shape:\",self.X_test.shape)\n",
    "    \n",
    "def loadXy(data_dir):\n",
    "    with open(data_dir, \"rb\") as fp:   # Unpickling\n",
    "        data_list = pickle.load(fp)\n",
    "\n",
    "    xpts, ypts, zpts, _, magpts = data_list\n",
    "\n",
    "    # check data\n",
    "    assert(len(xpts)==len(ypts) and len(xpts)==len(zpts) and len(xpts)==len(magpts))\n",
    "\n",
    "    # Transform the data into X, y form\n",
    "    n = len(xpts)\n",
    "    d = 3\n",
    "    X = np.array([xpts, ypts, zpts]).T\n",
    "    y = np.array(magpts)\n",
    "    return X, y\n",
    "\n",
    "def load_train(exp_num, verbose=3, alpha=0.15, nu=0.66, datafolder = \"Data/\"):\n",
    "    datafile = \"data%d.pkl\"%exp_num\n",
    "    datafile = datafolder + datafile\n",
    "\n",
    "    X, y = loadXy(datafile)\n",
    "    X_train, X_valid, y_train, y_valid = train_test_split(X, y, test_size=0.3, random_state=41) #!!! RANDSEED\n",
    "    venus = MyDataset(X_train, X_valid, y_train, y_valid)\n",
    "    if verbose&1:\n",
    "        print(\"Experiment %d data loaded!\"%exp_num)\n",
    "        venus.print_dim()\n",
    "        venus.normalize()\n",
    "    \n",
    "     # best value is 0.15\n",
    "    kernel = Matern(nu=nu)\n",
    "    gpr = GaussianProcessRegressor(kernel=kernel, random_state=0, alpha=alpha).fit(venus.X_train, venus.y_train)\n",
    "\n",
    "    # check\n",
    "    if verbose&2:\n",
    "        print(\"Train score: %f  \"%gpr.score(venus.X_train, venus.y_train))\n",
    "        print(\"Test score:  %f  \"%gpr.score(venus.X_valid, venus.y_valid))\n",
    "    \n",
    "    return venus, gpr, X, y"
   ]
  },
  {
   "cell_type": "markdown",
   "id": "b613cfee-4bea-43a6-8e21-422b7066625f",
   "metadata": {},
   "source": [
    "## Tests"
   ]
  },
  {
   "cell_type": "code",
   "execution_count": 102,
   "id": "24a59c76-25f8-40a8-809c-f3568657aa51",
   "metadata": {},
   "outputs": [
    {
     "name": "stdout",
     "output_type": "stream",
     "text": [
      "Experiment 3 data loaded!\n",
      "X_train has shape: (518, 3)\n",
      "y_train has shape: (518,)\n",
      "X_valid has shape: (222, 3)\n",
      "y_valid has shape: (222,)\n",
      "dataset normalized!\n",
      "Train score: 0.971636  \n",
      "Test score:  0.848345  \n"
     ]
    }
   ],
   "source": [
    "exp_num = 3\n",
    "\n",
    "venus, gpr, X, y = load_train(exp_num, verbose=3)"
   ]
  },
  {
   "cell_type": "code",
   "execution_count": 103,
   "id": "1f758ed4-0971-4b77-8e2a-0346159f9e1c",
   "metadata": {},
   "outputs": [
    {
     "name": "stdout",
     "output_type": "stream",
     "text": [
      "0.789675 for nu=0.200000\n",
      "0.815547 for nu=0.333333\n",
      "0.826330 for nu=0.466667\n",
      "0.831285 for nu=0.600000\n",
      "0.833486 for nu=0.733333\n",
      "0.834243 for nu=0.866667\n",
      "0.834196 for nu=1.000000\n",
      "0.833688 for nu=1.133333\n",
      "0.832915 for nu=1.266667\n",
      "0.831991 for nu=1.400000\n"
     ]
    },
    {
     "data": {
      "image/png": "[encoded data removed]",
      "text/plain": [
       "<Figure size 1300x800 with 1 Axes>"
      ]
     },
     "metadata": {},
     "output_type": "display_data"
    }
   ],
   "source": [
    "# Matern nu tuning\n",
    "alpha = 0.15\n",
    "cv_score = []\n",
    "nus = np.linspace(0.2, 1.4, 10)\n",
    "relu = lambda x: x if x>0 else 0\n",
    "for nu in nus:\n",
    "    kernel = Matern(nu=nu)\n",
    "    gpr = GaussianProcessRegressor(kernel=kernel,random_state=0, alpha=alpha).fit(venus.X_train, venus.y_train)\n",
    "    cvs = cross_val_score(gpr, X, y)\n",
    "    avg_cvs = sum(cvs)/len(cvs)\n",
    "    print(\"%f for nu=%f\"%(avg_cvs, nu))\n",
    "    cv_score.append(avg_cvs)\n",
    "\n",
    "cv_score = [relu(x) for x in cv_score]\n",
    "plt.plot(nus, cv_score, label=\"Cross-Validation Score\")\n",
    "plt.legend()\n",
    "plt.xlabel(\"nu\")\n",
    "plt.title(\"Matern Kernel (alpha = 0.15)\")\n",
    "plt.savefig(\"Matern nu exp%d.png\"%exp_num)"
   ]
  },
  {
   "cell_type": "code",
   "execution_count": 105,
   "id": "bd55f155-44e9-4c96-8d5d-e73fe61b7f32",
   "metadata": {},
   "outputs": [
    {
     "name": "stdout",
     "output_type": "stream",
     "text": [
      "dataset normalized!\n",
      "Whole dataset training score: 0.973478\n",
      "[101.25973344 102.64066197 125.03169889] [3.81622632 3.82109588 3.32787807]\n"
     ]
    }
   ],
   "source": [
    "# use all available data for the final model\n",
    "kernel = Matern(nu=0.7)\n",
    "\n",
    "venus_whole = MyDataset(X, None, y, None)\n",
    "venus_whole.normalize()\n",
    "\n",
    "gpr = GaussianProcessRegressor(kernel=kernel,random_state=1, alpha=alpha).fit(venus_whole.X_train, venus_whole.y_train)\n",
    "print(\"Whole dataset training score: %f\"%gpr.score(venus_whole.X_train, venus_whole.y_train))\n",
    "\n",
    "\n",
    "\n",
    "# save the model and print the normalizing lists used\n",
    "dumplist = [gpr, venus_whole.avg_list, venus_whole.std_list]\n",
    "with open(\"Models/gpr_exp%d.dump\"%exp_num , \"wb\") as f:\n",
    "    pickle.dump(dumplist, f)\n",
    "print(venus_whole.avg_list, venus_whole.std_list)"
   ]
  },
  {
   "cell_type": "markdown",
   "id": "674d5b04-b6aa-4941-ba2e-a9e28584122d",
   "metadata": {},
   "source": [
    "# Bayesian Optimization Simulation"
   ]
  },
  {
   "cell_type": "markdown",
   "id": "b18a6dc3-1698-4b18-a56d-c32c038baeae",
   "metadata": {
    "jp-MarkdownHeadingCollapsed": true,
    "tags": []
   },
   "source": [
    "## Definitions"
   ]
  },
  {
   "cell_type": "code",
   "execution_count": 68,
   "id": "0ed269d9-38e7-4137-84f4-8587cd5da224",
   "metadata": {},
   "outputs": [],
   "source": [
    "class Venus:\n",
    "    # note: always set the func paramter\n",
    "    def __init__(\n",
    "        self,\n",
    "        inj_limits=[97, 110],\n",
    "        mid_limits=[97, 110],\n",
    "        ext_limits=[116, 128],\n",
    "        beam_range=[0.50, 1.00],\n",
    "        jitter=0, \n",
    "        func = (lambda X: -1)\n",
    "    ):\n",
    "        \"\"\"The limits on the magnetic solenoids currents and the beam range (ouput).\n",
    "        A random jitter can be added also (fraction of 1.).\"\"\"\n",
    "        self.inj_limits = inj_limits\n",
    "        self.mid_limits = mid_limits\n",
    "        self.ext_limits = ext_limits\n",
    "        self.beam_range = beam_range\n",
    "        self.currents = np.zeros(3)\n",
    "        self.jitter = jitter\n",
    "        self.rng = np.random.default_rng(42)\n",
    "        self.func = func\n",
    "\n",
    "    def set_mag_currents(self, inj, mid, ext):\n",
    "        \"\"\"Set the magnetic currents on the coils.\"\"\"\n",
    "        for v, lim in zip([inj, mid, ext], [self.inj_limits, self.mid_limits, self.ext_limits]):\n",
    "            if v < lim[0] or v > lim[1]:\n",
    "                raise ValueError(\"Setting outside limits\")\n",
    "        self.currents = np.array([inj, mid, ext])\n",
    "\n",
    "    def _rescale_inputs(self, inputs):\n",
    "        \"\"\"input to himmelblau4 must be in [-6, 6].\"\"\"\n",
    "        return (\n",
    "            (c - l[0]) * 12.0 / (l[1] - l[0]) - 6.0\n",
    "            for c, l in zip(inputs, [self.inj_limits, self.mid_limits, self.ext_limits])\n",
    "        )\n",
    "\n",
    "    def _rescale_output(self, output):\n",
    "        \"\"\"simple square returns values betwen 0 and 27 for w, x, y, z in [-6, 6].\"\"\"\n",
    "        return (\n",
    "            (1. - (output / 27.0) + self.rng.normal(0.0, self.jitter)) *\n",
    "            (self.beam_range[1] - self.beam_range[0]) + self.beam_range[0]\n",
    "        )\n",
    "    \n",
    "    def get_noise_level(self):\n",
    "        # return std of the noise\n",
    "        noise = self.jitter*(self.beam_range[1] - self.beam_range[0])\n",
    "        return noise\n",
    "\n",
    "    def get_beam_current(self):\n",
    "        \"\"\"Read the current value of the beam current\"\"\"\n",
    "        return self.func(self.currents)\n",
    "\n",
    "    @staticmethod\n",
    "    def _simple_square(w, x, y):\n",
    "        \"\"\"A not so funky 3 dimensional parameter space with a single minima.\"\"\"\n",
    "        return (\n",
    "            (w - 3.)**2 + (x - 3.)**2 + (y - 3.)**2\n",
    "        )"
   ]
  },
  {
   "cell_type": "markdown",
   "id": "aef18902-b49a-42e3-b5fd-853cb624d69f",
   "metadata": {},
   "source": [
    "## Tests"
   ]
  },
  {
   "cell_type": "code",
   "execution_count": 69,
   "id": "d79e0966-e9bc-4af8-b0a6-6deb61f08104",
   "metadata": {},
   "outputs": [],
   "source": [
    "venus = Venus(jitter=0.15)"
   ]
  },
  {
   "cell_type": "code",
   "execution_count": 115,
   "id": "250a3ce7-e4a9-4813-ad3e-601fce06e205",
   "metadata": {},
   "outputs": [
    {
     "name": "stdout",
     "output_type": "stream",
     "text": [
      "81.67118720001949\n",
      "144.220143932402\n"
     ]
    }
   ],
   "source": [
    "# import the function we are trying to optimize\n",
    "def load_model(target):\n",
    "    gpr_model, avg_list, std_list = pickle.load(open(target,\"rb\"))\n",
    "    normalizer = lambda X: (X - avg_list )/ std_list\n",
    "    func = lambda currents: gpr_model.predict(normalizer(currents.reshape(1, -1)))[0]\n",
    "    return func\n",
    "    \n",
    "func1 = load_model(\"Models/gpr_exp1.dump\") # the training func\n",
    "func2 = load_model(\"Models/gpr_exp3.dump\") # the test time func\n",
    "print(func1(np.array([105,105,120])))\n",
    "print(func2(np.array([105,105,120])))"
   ]
  },
  {
   "cell_type": "code",
   "execution_count": 157,
   "id": "7ed2788c-9133-4f91-b01f-c0f716802414",
   "metadata": {},
   "outputs": [],
   "source": [
    "# kappa plotting\n",
    "def try_kappa(kappa, bbf, n=10):\n",
    "    best_list = []\n",
    "    for i in range(n):\n",
    "        random_state = int(i+100*kappa)\n",
    "        optimizer = BayesianOptimization(f = bbf,\n",
    "                                     pbounds = pbounds, verbose = 0,\n",
    "                                     random_state = random_state)\n",
    "        optimizer.maximize(init_points = 5, n_iter = 30, kappa=kappa, alpha=0.15)\n",
    "        best = optimizer.max[\"target\"]\n",
    "        best_list.append(best)\n",
    "    return best_list"
   ]
  },
  {
   "cell_type": "code",
   "execution_count": 158,
   "id": "98343133-0a50-45b7-94a4-fba068381655",
   "metadata": {},
   "outputs": [
    {
     "name": "stderr",
     "output_type": "stream",
     "text": [
      "100%|██████████████████████████████████████████| 10/10 [33:04<00:00, 198.48s/it]\n",
      "100%|████████████████████████████████████████| 10/10 [1:09:44<00:00, 418.40s/it]\n",
      "100%|██████████████████████████████████████████| 10/10 [52:58<00:00, 317.87s/it]\n"
     ]
    },
    {
     "data": {
      "image/png": "[encoded data removed]",
      "text/plain": [
       "<Figure size 1300x800 with 1 Axes>"
      ]
     },
     "metadata": {},
     "output_type": "display_data"
    }
   ],
   "source": [
    "for exp_num in range(1,4):\n",
    "    bbf = get_black_box_func(Venus(jitter=0.15, func=load_model(\"Models/gpr_exp%d.dump\"%exp_num)))\n",
    "    n = 50\n",
    "    kappas = np.linspace(1.5, 4, 10)\n",
    "    results = []\n",
    "    for kappa in tqdm(kappas):\n",
    "        best_list = try_kappa(kappa, bbf, n=n)\n",
    "        results.append(sum(best_list)/len(best_list))\n",
    "\n",
    "    plt.plot(kappas, results)\n",
    "    plt.title(\"Average Best Achieved (Exp %d)\"%exp_num)\n",
    "    plt.xlabel(\"kappa\")\n",
    "    plt.ylabel(\"Best Beam Current (averaged over %d)\"%n)\n",
    "    plt.savefig(\"Exp %d kappa.png\"%exp_num)\n",
    "    plt.show()"
   ]
  },
  {
   "cell_type": "code",
   "execution_count": 112,
   "id": "aef04607-a130-41ac-b20a-bb53f67dc4c5",
   "metadata": {},
   "outputs": [],
   "source": [
    "def get_black_box_func(venus):\n",
    "    # Define the black box function to optimize.\n",
    "    def black_box_function(A, B, C):\n",
    "        # C: SVC hyper parameter to optimize for.\n",
    "        venus.set_mag_currents(A, B, C)\n",
    "        v = venus.get_beam_current()\n",
    "        return v\n",
    "    return black_box_function"
   ]
  },
  {
   "cell_type": "code",
   "execution_count": 116,
   "id": "9cc7b841-baf9-42c6-b310-d647f72b6663",
   "metadata": {},
   "outputs": [],
   "source": [
    "bbf1 = get_black_box_func(Venus(jitter=0.15, func=func1))\n",
    "bbf2 = get_black_box_func(Venus(jitter=0.15, func=func2))"
   ]
  },
  {
   "cell_type": "code",
   "execution_count": 117,
   "id": "0033d0d9-ae2a-44da-a9f4-a0defb39fccd",
   "metadata": {},
   "outputs": [
    {
     "name": "stderr",
     "output_type": "stream",
     "text": [
      "100%|█████████████████████████████████████████| 100/100 [12:08<00:00,  7.29s/it]\n"
     ]
    }
   ],
   "source": [
    "# now we try on the second run function but first probing the best paramter found from first run\n",
    "def trial_probe(random_state):\n",
    "    \n",
    "    optimizer1 = BayesianOptimization(f = bbf1,\n",
    "                                 pbounds = pbounds, verbose = 0,\n",
    "                                 random_state = random_state)\n",
    "    optimizer1.maximize(init_points = 0, n_iter = 80, kappa=2.3, alpha=0.15)\n",
    "    best_params_found = optimizer1.max[\"params\"]\n",
    "    \n",
    "    optimizer2 = BayesianOptimization(f = bbf2,\n",
    "                                     pbounds = pbounds, verbose = 0,\n",
    "                                     random_state = random_state)\n",
    "    optimizer2.probe(\n",
    "        params=best_params_found,\n",
    "        lazy=True,\n",
    "    )\n",
    "\n",
    "    optimizer2.maximize(init_points = 0, n_iter = 10, kappa=0.3, alpha=0.15)\n",
    "    # the second run best is around 170, so we define 150 as acceptable\n",
    "    return optimizer2.max[\"target\"]\n",
    "results = []\n",
    "for i in tqdm(range(100)):\n",
    "    results.append(trial_probe(i))"
   ]
  },
  {
   "cell_type": "code",
   "execution_count": 118,
   "id": "00f1ea12-6073-45ad-a8f3-2f5fb0af017c",
   "metadata": {},
   "outputs": [
    {
     "data": {
      "image/png": "[encoded data removed]",
      "text/plain": [
       "<Figure size 1300x800 with 1 Axes>"
      ]
     },
     "metadata": {},
     "output_type": "display_data"
    }
   ],
   "source": []
  },
  {
   "cell_type": "code",
   "execution_count": 120,
   "id": "3df60025-01f1-43df-8ae0-d1a3f8a7d414",
   "metadata": {},
   "outputs": [
    {
     "data": {
      "text/plain": [
       "0.030563159973920874"
      ]
     },
     "execution_count": 120,
     "metadata": {},
     "output_type": "execute_result"
    }
   ],
   "source": [
    "def trial2(N, n_iter = 15, init_points = 5, kappa = 3, verbose = 0, rand_adder = 0):\n",
    "    # higher kappa prefers exploration\n",
    "    # initial points are randomly chosen within bounds\n",
    "    # rand_adder is to make sure we probe some different randstates in each trial\n",
    "    # rand_adder = random.randint(1,1000)\n",
    "    results = []\n",
    "    coords = []\n",
    "    pbounds = {\"A\": [97, 110], \"B\": [97, 110], \"C\": [116, 128]}\n",
    "    noise = max(venus.get_noise_level(), 1e-5)\n",
    "    \n",
    "    for i in tqdm(range(N)):\n",
    "        # Create a BayesianOptimization optimizer,\n",
    "        # and optimize the given black_box_function.\n",
    "        optimizer = BayesianOptimization(f = black_box_function,\n",
    "                                         pbounds = pbounds, verbose = 0)\n",
    "                                         # random_state = i+rand_adder)\n",
    "        optimizer.maximize(init_points = init_points, n_iter = n_iter, kappa=kappa, alpha=noise) # \n",
    "        if verbose>1:\n",
    "            print(\"Best result: {}; f(x) = {}.\".format(optimizer.max[\"params\"], optimizer.max[\"target\"]))\n",
    "        results.append(optimizer.max[\"target\"])\n",
    "        coords.append(optimizer.max[\"params\"])\n",
    "        del optimizer\n",
    "    # print(\"Results:\", results)\n",
    "    n_succ = sum([i>=CUTOFF for i in results]) / len(results)\n",
    "    return n_succ, results\n",
    "\n",
    "def FairCoinVar(H, N):\n",
    "    return (1 - H**2 + N + H * N)/((2 + N)**2 * (3 + N))\n",
    "FairCoinVar(10, 100) ** (1/2)\n",
    "\n"
   ]
  },
  {
   "cell_type": "code",
   "execution_count": null,
   "id": "bad09906-8edb-4318-85db-3ad098aff8b4",
   "metadata": {},
   "outputs": [],
   "source": []
  },
  {
   "cell_type": "code",
   "execution_count": null,
   "id": "813e3363-294b-44ba-94c5-701767551a75",
   "metadata": {},
   "outputs": [],
   "source": []
  }
 ],
 "metadata": {
  "kernelspec": {
   "display_name": "Python 3 (ipykernel)",
   "language": "python",
   "name": "python3"
  },
  "language_info": {
   "codemirror_mode": {
    "name": "ipython",
    "version": 3
   },
   "file_extension": ".py",
   "mimetype": "text/x-python",
   "name": "python",
   "nbconvert_exporter": "python",
   "pygments_lexer": "ipython3",
   "version": "3.9.7"
  }
 },
 "nbformat": 4,
 "nbformat_minor": 5
}
